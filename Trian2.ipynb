{
 "cells": [
  {
   "cell_type": "code",
   "execution_count": 145,
   "id": "01ca54dd",
   "metadata": {},
   "outputs": [],
   "source": [
    "import tensorflow as tf\n",
    "from nltk.tokenize import word_tokenize\n",
    "from nltk.corpus import stopwords\n",
    "from tensorflow.keras.preprocessing.text import Tokenizer\n",
    "from tensorflow.keras.preprocessing.sequence import pad_sequences\n",
    "import numpy as np"
   ]
  },
  {
   "cell_type": "code",
   "execution_count": 146,
   "id": "d1488056",
   "metadata": {},
   "outputs": [],
   "source": [
    "questions = [\n",
    "    {\n",
    "        \"js\":[\n",
    "                \"How to install nodejs\",\n",
    "                \"How do I install ts\",\n",
    "                \"Why was ts created\",\n",
    "                \"my javascript code is not working can some help me\"\n",
    "        ]\n",
    "    },\n",
    "    {\n",
    "        \"python\":[\n",
    "                \"How to create a virtual environment\",\n",
    "                \"my pip is not working can someone help me\",\n",
    "                \"how do upgrade my pip\",\n",
    "                \"I want to update my python to verion 2.4\"\n",
    "        ]\n",
    "    }\n",
    "    \n",
    "]\n",
    "\n",
    "stop_words = set(stopwords.words('english'))"
   ]
  },
  {
   "cell_type": "code",
   "execution_count": 147,
   "id": "3bcc0186",
   "metadata": {},
   "outputs": [],
   "source": [
    "def preprocess_text(text):\n",
    "    tokens = word_tokenize(text.lower())\n",
    "    filtered_tokens = [token for token in tokens if token.isalnum() and token not in stop_words]\n",
    "    return \" \".join(filtered_tokens)"
   ]
  },
  {
   "cell_type": "code",
   "execution_count": 148,
   "id": "4d903104",
   "metadata": {},
   "outputs": [],
   "source": [
    "all_questions = []\n",
    "all_labels = []"
   ]
  },
  {
   "cell_type": "code",
   "execution_count": 149,
   "id": "be1415e4",
   "metadata": {},
   "outputs": [],
   "source": [
    "tokenizer = Tokenizer()"
   ]
  },
  {
   "cell_type": "code",
   "execution_count": 150,
   "id": "960ffcfa",
   "metadata": {},
   "outputs": [],
   "source": [
    "for item in questions:\n",
    "    for tag, tag_questions in item.items():\n",
    "        # Preprocess all questions for the current tag\n",
    "        preprocessed_questions = [preprocess_text(question) for question in tag_questions]\n",
    "        \n",
    "        # Append the preprocessed questions and corresponding labels\n",
    "        all_questions.extend(preprocessed_questions)\n",
    "        all_labels.extend([tag] * len(tag_questions))"
   ]
  },
  {
   "cell_type": "code",
   "execution_count": 151,
   "id": "206674a7",
   "metadata": {},
   "outputs": [],
   "source": [
    "tokenizer.fit_on_texts(all_questions)\n",
    "sequences = tokenizer.texts_to_sequences(all_questions)"
   ]
  },
  {
   "cell_type": "code",
   "execution_count": 152,
   "id": "7fb6a713",
   "metadata": {},
   "outputs": [],
   "source": [
    "max_sequence_length = max(len(seq) for seq in sequences)\n",
    "sequences = pad_sequences(sequences, maxlen=max_sequence_length)"
   ]
  },
  {
   "cell_type": "code",
   "execution_count": 153,
   "id": "979e5842",
   "metadata": {},
   "outputs": [],
   "source": [
    "label_to_index = {tag: i for i, tag in enumerate(set(all_labels))}\n",
    "labels = np.array([label_to_index[label] for label in all_labels], dtype=np.int32)"
   ]
  },
  {
   "cell_type": "code",
   "execution_count": null,
   "id": "3308f1fc",
   "metadata": {},
   "outputs": [],
   "source": []
  },
  {
   "cell_type": "code",
   "execution_count": 154,
   "id": "0a850530",
   "metadata": {},
   "outputs": [],
   "source": [
    "model = tf.keras.Sequential()"
   ]
  },
  {
   "cell_type": "code",
   "execution_count": 155,
   "id": "96a3a104",
   "metadata": {},
   "outputs": [],
   "source": [
    "model.add(tf.keras.layers.Embedding(input_dim=len(tokenizer.word_index) + 1,output_dim=100, input_length=max_sequence_length ))\n",
    "model.add(tf.keras.layers.Flatten())\n",
    "model.add(tf.keras.layers.Dense(64,activation='relu'))\n",
    "model.add(tf.keras.layers.Dense(len(tags),activation='softmax'))"
   ]
  },
  {
   "cell_type": "code",
   "execution_count": 156,
   "id": "9777295a",
   "metadata": {},
   "outputs": [
    {
     "name": "stdout",
     "output_type": "stream",
     "text": [
      "Model: \"sequential_8\"\n",
      "_________________________________________________________________\n",
      " Layer (type)                Output Shape              Param #   \n",
      "=================================================================\n",
      " embedding_9 (Embedding)     (None, 4, 100)            1900      \n",
      "                                                                 \n",
      " flatten_9 (Flatten)         (None, 400)               0         \n",
      "                                                                 \n",
      " dense_18 (Dense)            (None, 64)                25664     \n",
      "                                                                 \n",
      " dense_19 (Dense)            (None, 1)                 65        \n",
      "                                                                 \n",
      "=================================================================\n",
      "Total params: 27,629\n",
      "Trainable params: 27,629\n",
      "Non-trainable params: 0\n",
      "_________________________________________________________________\n"
     ]
    }
   ],
   "source": [
    "model.summary()"
   ]
  },
  {
   "cell_type": "code",
   "execution_count": 157,
   "id": "6af22b52",
   "metadata": {},
   "outputs": [],
   "source": [
    "model.compile(loss='sparse_categorical_crossentropy', optimizer='adam', metrics=['accuracy'])\n",
    "early_stopping = tf.keras.callbacks.EarlyStopping(monitor='val_loss', patience=3, restore_best_weights=True)"
   ]
  },
  {
   "cell_type": "code",
   "execution_count": 158,
   "id": "6e1f0c8b",
   "metadata": {},
   "outputs": [
    {
     "name": "stdout",
     "output_type": "stream",
     "text": [
      "Epoch 1/100\n",
      "1/8 [==>...........................] - ETA: 4s - loss: 0.0000e+00 - accuracy: 0.0000e+00"
     ]
    },
    {
     "ename": "InvalidArgumentError",
     "evalue": "Graph execution error:\n\nDetected at node 'sparse_categorical_crossentropy/SparseSoftmaxCrossEntropyWithLogits/SparseSoftmaxCrossEntropyWithLogits' defined at (most recent call last):\n    File \"C:\\Users\\Anon\\.conda\\envs\\fin\\lib\\runpy.py\", line 197, in _run_module_as_main\n      return _run_code(code, main_globals, None,\n    File \"C:\\Users\\Anon\\.conda\\envs\\fin\\lib\\runpy.py\", line 87, in _run_code\n      exec(code, run_globals)\n    File \"C:\\Users\\Anon\\.conda\\envs\\fin\\lib\\site-packages\\ipykernel_launcher.py\", line 17, in <module>\n      app.launch_new_instance()\n    File \"C:\\Users\\Anon\\.conda\\envs\\fin\\lib\\site-packages\\traitlets\\config\\application.py\", line 992, in launch_instance\n      app.start()\n    File \"C:\\Users\\Anon\\.conda\\envs\\fin\\lib\\site-packages\\ipykernel\\kernelapp.py\", line 711, in start\n      self.io_loop.start()\n    File \"C:\\Users\\Anon\\.conda\\envs\\fin\\lib\\site-packages\\tornado\\platform\\asyncio.py\", line 215, in start\n      self.asyncio_loop.run_forever()\n    File \"C:\\Users\\Anon\\.conda\\envs\\fin\\lib\\asyncio\\base_events.py\", line 601, in run_forever\n      self._run_once()\n    File \"C:\\Users\\Anon\\.conda\\envs\\fin\\lib\\asyncio\\base_events.py\", line 1905, in _run_once\n      handle._run()\n    File \"C:\\Users\\Anon\\.conda\\envs\\fin\\lib\\asyncio\\events.py\", line 80, in _run\n      self._context.run(self._callback, *self._args)\n    File \"C:\\Users\\Anon\\.conda\\envs\\fin\\lib\\site-packages\\ipykernel\\kernelbase.py\", line 510, in dispatch_queue\n      await self.process_one()\n    File \"C:\\Users\\Anon\\.conda\\envs\\fin\\lib\\site-packages\\ipykernel\\kernelbase.py\", line 499, in process_one\n      await dispatch(*args)\n    File \"C:\\Users\\Anon\\.conda\\envs\\fin\\lib\\site-packages\\ipykernel\\kernelbase.py\", line 406, in dispatch_shell\n      await result\n    File \"C:\\Users\\Anon\\.conda\\envs\\fin\\lib\\site-packages\\ipykernel\\kernelbase.py\", line 729, in execute_request\n      reply_content = await reply_content\n    File \"C:\\Users\\Anon\\.conda\\envs\\fin\\lib\\site-packages\\ipykernel\\ipkernel.py\", line 411, in do_execute\n      res = shell.run_cell(\n    File \"C:\\Users\\Anon\\.conda\\envs\\fin\\lib\\site-packages\\ipykernel\\zmqshell.py\", line 531, in run_cell\n      return super().run_cell(*args, **kwargs)\n    File \"C:\\Users\\Anon\\.conda\\envs\\fin\\lib\\site-packages\\IPython\\core\\interactiveshell.py\", line 2945, in run_cell\n      result = self._run_cell(\n    File \"C:\\Users\\Anon\\.conda\\envs\\fin\\lib\\site-packages\\IPython\\core\\interactiveshell.py\", line 3000, in _run_cell\n      return runner(coro)\n    File \"C:\\Users\\Anon\\.conda\\envs\\fin\\lib\\site-packages\\IPython\\core\\async_helpers.py\", line 129, in _pseudo_sync_runner\n      coro.send(None)\n    File \"C:\\Users\\Anon\\.conda\\envs\\fin\\lib\\site-packages\\IPython\\core\\interactiveshell.py\", line 3203, in run_cell_async\n      has_raised = await self.run_ast_nodes(code_ast.body, cell_name,\n    File \"C:\\Users\\Anon\\.conda\\envs\\fin\\lib\\site-packages\\IPython\\core\\interactiveshell.py\", line 3382, in run_ast_nodes\n      if await self.run_code(code, result, async_=asy):\n    File \"C:\\Users\\Anon\\.conda\\envs\\fin\\lib\\site-packages\\IPython\\core\\interactiveshell.py\", line 3442, in run_code\n      exec(code_obj, self.user_global_ns, self.user_ns)\n    File \"C:\\Users\\Anon\\AppData\\Local\\Temp\\ipykernel_9660\\1515922434.py\", line 1, in <module>\n      model.fit(sequences, labels, epochs=100, batch_size=1, callbacks=[early_stopping])\n    File \"C:\\Users\\Anon\\.conda\\envs\\fin\\lib\\site-packages\\keras\\utils\\traceback_utils.py\", line 65, in error_handler\n      return fn(*args, **kwargs)\n    File \"C:\\Users\\Anon\\.conda\\envs\\fin\\lib\\site-packages\\keras\\engine\\training.py\", line 1650, in fit\n      tmp_logs = self.train_function(iterator)\n    File \"C:\\Users\\Anon\\.conda\\envs\\fin\\lib\\site-packages\\keras\\engine\\training.py\", line 1249, in train_function\n      return step_function(self, iterator)\n    File \"C:\\Users\\Anon\\.conda\\envs\\fin\\lib\\site-packages\\keras\\engine\\training.py\", line 1233, in step_function\n      outputs = model.distribute_strategy.run(run_step, args=(data,))\n    File \"C:\\Users\\Anon\\.conda\\envs\\fin\\lib\\site-packages\\keras\\engine\\training.py\", line 1222, in run_step\n      outputs = model.train_step(data)\n    File \"C:\\Users\\Anon\\.conda\\envs\\fin\\lib\\site-packages\\keras\\engine\\training.py\", line 1024, in train_step\n      loss = self.compute_loss(x, y, y_pred, sample_weight)\n    File \"C:\\Users\\Anon\\.conda\\envs\\fin\\lib\\site-packages\\keras\\engine\\training.py\", line 1082, in compute_loss\n      return self.compiled_loss(\n    File \"C:\\Users\\Anon\\.conda\\envs\\fin\\lib\\site-packages\\keras\\engine\\compile_utils.py\", line 265, in __call__\n      loss_value = loss_obj(y_t, y_p, sample_weight=sw)\n    File \"C:\\Users\\Anon\\.conda\\envs\\fin\\lib\\site-packages\\keras\\losses.py\", line 152, in __call__\n      losses = call_fn(y_true, y_pred)\n    File \"C:\\Users\\Anon\\.conda\\envs\\fin\\lib\\site-packages\\keras\\losses.py\", line 284, in call\n      return ag_fn(y_true, y_pred, **self._fn_kwargs)\n    File \"C:\\Users\\Anon\\.conda\\envs\\fin\\lib\\site-packages\\keras\\losses.py\", line 2098, in sparse_categorical_crossentropy\n      return backend.sparse_categorical_crossentropy(\n    File \"C:\\Users\\Anon\\.conda\\envs\\fin\\lib\\site-packages\\keras\\backend.py\", line 5633, in sparse_categorical_crossentropy\n      res = tf.nn.sparse_softmax_cross_entropy_with_logits(\nNode: 'sparse_categorical_crossentropy/SparseSoftmaxCrossEntropyWithLogits/SparseSoftmaxCrossEntropyWithLogits'\nReceived a label value of 1 which is outside the valid range of [0, 1).  Label values: 1\n\t [[{{node sparse_categorical_crossentropy/SparseSoftmaxCrossEntropyWithLogits/SparseSoftmaxCrossEntropyWithLogits}}]] [Op:__inference_train_function_9219]",
     "output_type": "error",
     "traceback": [
      "\u001b[1;31m---------------------------------------------------------------------------\u001b[0m",
      "\u001b[1;31mInvalidArgumentError\u001b[0m                      Traceback (most recent call last)",
      "Cell \u001b[1;32mIn[158], line 1\u001b[0m\n\u001b[1;32m----> 1\u001b[0m \u001b[43mmodel\u001b[49m\u001b[38;5;241;43m.\u001b[39;49m\u001b[43mfit\u001b[49m\u001b[43m(\u001b[49m\u001b[43msequences\u001b[49m\u001b[43m,\u001b[49m\u001b[43m \u001b[49m\u001b[43mlabels\u001b[49m\u001b[43m,\u001b[49m\u001b[43m \u001b[49m\u001b[43mepochs\u001b[49m\u001b[38;5;241;43m=\u001b[39;49m\u001b[38;5;241;43m100\u001b[39;49m\u001b[43m,\u001b[49m\u001b[43m \u001b[49m\u001b[43mbatch_size\u001b[49m\u001b[38;5;241;43m=\u001b[39;49m\u001b[38;5;241;43m1\u001b[39;49m\u001b[43m,\u001b[49m\u001b[43m \u001b[49m\u001b[43mcallbacks\u001b[49m\u001b[38;5;241;43m=\u001b[39;49m\u001b[43m[\u001b[49m\u001b[43mearly_stopping\u001b[49m\u001b[43m]\u001b[49m\u001b[43m)\u001b[49m\n",
      "File \u001b[1;32m~\\.conda\\envs\\fin\\lib\\site-packages\\keras\\utils\\traceback_utils.py:70\u001b[0m, in \u001b[0;36mfilter_traceback.<locals>.error_handler\u001b[1;34m(*args, **kwargs)\u001b[0m\n\u001b[0;32m     67\u001b[0m     filtered_tb \u001b[38;5;241m=\u001b[39m _process_traceback_frames(e\u001b[38;5;241m.\u001b[39m__traceback__)\n\u001b[0;32m     68\u001b[0m     \u001b[38;5;66;03m# To get the full stack trace, call:\u001b[39;00m\n\u001b[0;32m     69\u001b[0m     \u001b[38;5;66;03m# `tf.debugging.disable_traceback_filtering()`\u001b[39;00m\n\u001b[1;32m---> 70\u001b[0m     \u001b[38;5;28;01mraise\u001b[39;00m e\u001b[38;5;241m.\u001b[39mwith_traceback(filtered_tb) \u001b[38;5;28;01mfrom\u001b[39;00m \u001b[38;5;28mNone\u001b[39m\n\u001b[0;32m     71\u001b[0m \u001b[38;5;28;01mfinally\u001b[39;00m:\n\u001b[0;32m     72\u001b[0m     \u001b[38;5;28;01mdel\u001b[39;00m filtered_tb\n",
      "File \u001b[1;32m~\\.conda\\envs\\fin\\lib\\site-packages\\tensorflow\\python\\eager\\execute.py:52\u001b[0m, in \u001b[0;36mquick_execute\u001b[1;34m(op_name, num_outputs, inputs, attrs, ctx, name)\u001b[0m\n\u001b[0;32m     50\u001b[0m \u001b[38;5;28;01mtry\u001b[39;00m:\n\u001b[0;32m     51\u001b[0m   ctx\u001b[38;5;241m.\u001b[39mensure_initialized()\n\u001b[1;32m---> 52\u001b[0m   tensors \u001b[38;5;241m=\u001b[39m pywrap_tfe\u001b[38;5;241m.\u001b[39mTFE_Py_Execute(ctx\u001b[38;5;241m.\u001b[39m_handle, device_name, op_name,\n\u001b[0;32m     53\u001b[0m                                       inputs, attrs, num_outputs)\n\u001b[0;32m     54\u001b[0m \u001b[38;5;28;01mexcept\u001b[39;00m core\u001b[38;5;241m.\u001b[39m_NotOkStatusException \u001b[38;5;28;01mas\u001b[39;00m e:\n\u001b[0;32m     55\u001b[0m   \u001b[38;5;28;01mif\u001b[39;00m name \u001b[38;5;129;01mis\u001b[39;00m \u001b[38;5;129;01mnot\u001b[39;00m \u001b[38;5;28;01mNone\u001b[39;00m:\n",
      "\u001b[1;31mInvalidArgumentError\u001b[0m: Graph execution error:\n\nDetected at node 'sparse_categorical_crossentropy/SparseSoftmaxCrossEntropyWithLogits/SparseSoftmaxCrossEntropyWithLogits' defined at (most recent call last):\n    File \"C:\\Users\\Anon\\.conda\\envs\\fin\\lib\\runpy.py\", line 197, in _run_module_as_main\n      return _run_code(code, main_globals, None,\n    File \"C:\\Users\\Anon\\.conda\\envs\\fin\\lib\\runpy.py\", line 87, in _run_code\n      exec(code, run_globals)\n    File \"C:\\Users\\Anon\\.conda\\envs\\fin\\lib\\site-packages\\ipykernel_launcher.py\", line 17, in <module>\n      app.launch_new_instance()\n    File \"C:\\Users\\Anon\\.conda\\envs\\fin\\lib\\site-packages\\traitlets\\config\\application.py\", line 992, in launch_instance\n      app.start()\n    File \"C:\\Users\\Anon\\.conda\\envs\\fin\\lib\\site-packages\\ipykernel\\kernelapp.py\", line 711, in start\n      self.io_loop.start()\n    File \"C:\\Users\\Anon\\.conda\\envs\\fin\\lib\\site-packages\\tornado\\platform\\asyncio.py\", line 215, in start\n      self.asyncio_loop.run_forever()\n    File \"C:\\Users\\Anon\\.conda\\envs\\fin\\lib\\asyncio\\base_events.py\", line 601, in run_forever\n      self._run_once()\n    File \"C:\\Users\\Anon\\.conda\\envs\\fin\\lib\\asyncio\\base_events.py\", line 1905, in _run_once\n      handle._run()\n    File \"C:\\Users\\Anon\\.conda\\envs\\fin\\lib\\asyncio\\events.py\", line 80, in _run\n      self._context.run(self._callback, *self._args)\n    File \"C:\\Users\\Anon\\.conda\\envs\\fin\\lib\\site-packages\\ipykernel\\kernelbase.py\", line 510, in dispatch_queue\n      await self.process_one()\n    File \"C:\\Users\\Anon\\.conda\\envs\\fin\\lib\\site-packages\\ipykernel\\kernelbase.py\", line 499, in process_one\n      await dispatch(*args)\n    File \"C:\\Users\\Anon\\.conda\\envs\\fin\\lib\\site-packages\\ipykernel\\kernelbase.py\", line 406, in dispatch_shell\n      await result\n    File \"C:\\Users\\Anon\\.conda\\envs\\fin\\lib\\site-packages\\ipykernel\\kernelbase.py\", line 729, in execute_request\n      reply_content = await reply_content\n    File \"C:\\Users\\Anon\\.conda\\envs\\fin\\lib\\site-packages\\ipykernel\\ipkernel.py\", line 411, in do_execute\n      res = shell.run_cell(\n    File \"C:\\Users\\Anon\\.conda\\envs\\fin\\lib\\site-packages\\ipykernel\\zmqshell.py\", line 531, in run_cell\n      return super().run_cell(*args, **kwargs)\n    File \"C:\\Users\\Anon\\.conda\\envs\\fin\\lib\\site-packages\\IPython\\core\\interactiveshell.py\", line 2945, in run_cell\n      result = self._run_cell(\n    File \"C:\\Users\\Anon\\.conda\\envs\\fin\\lib\\site-packages\\IPython\\core\\interactiveshell.py\", line 3000, in _run_cell\n      return runner(coro)\n    File \"C:\\Users\\Anon\\.conda\\envs\\fin\\lib\\site-packages\\IPython\\core\\async_helpers.py\", line 129, in _pseudo_sync_runner\n      coro.send(None)\n    File \"C:\\Users\\Anon\\.conda\\envs\\fin\\lib\\site-packages\\IPython\\core\\interactiveshell.py\", line 3203, in run_cell_async\n      has_raised = await self.run_ast_nodes(code_ast.body, cell_name,\n    File \"C:\\Users\\Anon\\.conda\\envs\\fin\\lib\\site-packages\\IPython\\core\\interactiveshell.py\", line 3382, in run_ast_nodes\n      if await self.run_code(code, result, async_=asy):\n    File \"C:\\Users\\Anon\\.conda\\envs\\fin\\lib\\site-packages\\IPython\\core\\interactiveshell.py\", line 3442, in run_code\n      exec(code_obj, self.user_global_ns, self.user_ns)\n    File \"C:\\Users\\Anon\\AppData\\Local\\Temp\\ipykernel_9660\\1515922434.py\", line 1, in <module>\n      model.fit(sequences, labels, epochs=100, batch_size=1, callbacks=[early_stopping])\n    File \"C:\\Users\\Anon\\.conda\\envs\\fin\\lib\\site-packages\\keras\\utils\\traceback_utils.py\", line 65, in error_handler\n      return fn(*args, **kwargs)\n    File \"C:\\Users\\Anon\\.conda\\envs\\fin\\lib\\site-packages\\keras\\engine\\training.py\", line 1650, in fit\n      tmp_logs = self.train_function(iterator)\n    File \"C:\\Users\\Anon\\.conda\\envs\\fin\\lib\\site-packages\\keras\\engine\\training.py\", line 1249, in train_function\n      return step_function(self, iterator)\n    File \"C:\\Users\\Anon\\.conda\\envs\\fin\\lib\\site-packages\\keras\\engine\\training.py\", line 1233, in step_function\n      outputs = model.distribute_strategy.run(run_step, args=(data,))\n    File \"C:\\Users\\Anon\\.conda\\envs\\fin\\lib\\site-packages\\keras\\engine\\training.py\", line 1222, in run_step\n      outputs = model.train_step(data)\n    File \"C:\\Users\\Anon\\.conda\\envs\\fin\\lib\\site-packages\\keras\\engine\\training.py\", line 1024, in train_step\n      loss = self.compute_loss(x, y, y_pred, sample_weight)\n    File \"C:\\Users\\Anon\\.conda\\envs\\fin\\lib\\site-packages\\keras\\engine\\training.py\", line 1082, in compute_loss\n      return self.compiled_loss(\n    File \"C:\\Users\\Anon\\.conda\\envs\\fin\\lib\\site-packages\\keras\\engine\\compile_utils.py\", line 265, in __call__\n      loss_value = loss_obj(y_t, y_p, sample_weight=sw)\n    File \"C:\\Users\\Anon\\.conda\\envs\\fin\\lib\\site-packages\\keras\\losses.py\", line 152, in __call__\n      losses = call_fn(y_true, y_pred)\n    File \"C:\\Users\\Anon\\.conda\\envs\\fin\\lib\\site-packages\\keras\\losses.py\", line 284, in call\n      return ag_fn(y_true, y_pred, **self._fn_kwargs)\n    File \"C:\\Users\\Anon\\.conda\\envs\\fin\\lib\\site-packages\\keras\\losses.py\", line 2098, in sparse_categorical_crossentropy\n      return backend.sparse_categorical_crossentropy(\n    File \"C:\\Users\\Anon\\.conda\\envs\\fin\\lib\\site-packages\\keras\\backend.py\", line 5633, in sparse_categorical_crossentropy\n      res = tf.nn.sparse_softmax_cross_entropy_with_logits(\nNode: 'sparse_categorical_crossentropy/SparseSoftmaxCrossEntropyWithLogits/SparseSoftmaxCrossEntropyWithLogits'\nReceived a label value of 1 which is outside the valid range of [0, 1).  Label values: 1\n\t [[{{node sparse_categorical_crossentropy/SparseSoftmaxCrossEntropyWithLogits/SparseSoftmaxCrossEntropyWithLogits}}]] [Op:__inference_train_function_9219]"
     ]
    }
   ],
   "source": [
    "model.fit(sequences, labels, epochs=100, batch_size=1, callbacks=[early_stopping])"
   ]
  },
  {
   "cell_type": "code",
   "execution_count": 173,
   "id": "c2e38684",
   "metadata": {},
   "outputs": [
    {
     "name": "stdout",
     "output_type": "stream",
     "text": [
      "Epoch 1/100\n",
      "6/6 [==============================] - 1s 55ms/step - loss: 0.6935 - accuracy: 0.6667 - val_loss: 0.7678 - val_accuracy: 0.0000e+00\n",
      "Epoch 2/100\n",
      "6/6 [==============================] - 0s 13ms/step - loss: 0.6142 - accuracy: 1.0000 - val_loss: 0.7929 - val_accuracy: 0.0000e+00\n",
      "Epoch 3/100\n",
      "6/6 [==============================] - 0s 12ms/step - loss: 0.5579 - accuracy: 1.0000 - val_loss: 0.8328 - val_accuracy: 0.0000e+00\n",
      "Epoch 4/100\n",
      "6/6 [==============================] - 0s 12ms/step - loss: 0.4964 - accuracy: 1.0000 - val_loss: 0.8764 - val_accuracy: 0.0000e+00\n",
      "[[0 0 0 0 1]]\n",
      "1/1 [==============================] - 0s 73ms/step\n",
      "Predicted tag: js\n"
     ]
    }
   ],
   "source": [
    "import tensorflow as tf\n",
    "from nltk.tokenize import word_tokenize\n",
    "from nltk.corpus import stopwords\n",
    "from tensorflow.keras.preprocessing.text import Tokenizer\n",
    "from tensorflow.keras.preprocessing.sequence import pad_sequences\n",
    "import numpy as np\n",
    "\n",
    "# Sample dataset\n",
    "questions = [\n",
    "    {\n",
    "        \"js\": [\n",
    "            \"How to install nodejs\",\n",
    "            \"How do I install ts\",\n",
    "            \"Why was ts created\",\n",
    "            \"my javascript code is not working can someone help me\"\n",
    "        ]\n",
    "    },\n",
    "    {\n",
    "        \"python\": [\n",
    "            \"How to create a python virtual environment\",\n",
    "            \"my pip is not working python can someone help me\",\n",
    "            \"how do I upgrade my pip python\",\n",
    "            \"I want to update my python to version 2.4\"\n",
    "        ]\n",
    "    }\n",
    "]\n",
    "\n",
    "# Preprocess the text using NLTK for tokenization and stopword removal\n",
    "def preprocess_text(text):\n",
    "    tokens = word_tokenize(text.lower())\n",
    "    stop_words = set(stopwords.words('english'))\n",
    "    filtered_tokens = [token for token in tokens if token.isalnum() and token not in stop_words]\n",
    "    return \" \".join(filtered_tokens)\n",
    "\n",
    "# Create lists to store the questions and corresponding labels\n",
    "all_questions = []\n",
    "all_labels = []\n",
    "\n",
    "# Tokenize the text and convert to sequences\n",
    "tokenizer = Tokenizer()\n",
    "\n",
    "# Process each tag separately\n",
    "for item in questions:\n",
    "    for tag, tag_questions in item.items():\n",
    "        # Preprocess all questions for the current tag\n",
    "        preprocessed_questions = [preprocess_text(question) for question in tag_questions]\n",
    "        \n",
    "        # Append the preprocessed questions and corresponding labels\n",
    "        all_questions.extend(preprocessed_questions)\n",
    "        all_labels.extend([tag] * len(tag_questions))\n",
    "\n",
    "# Fit the tokenizer on all questions\n",
    "tokenizer.fit_on_texts(all_questions)\n",
    "sequences = tokenizer.texts_to_sequences(all_questions)\n",
    "\n",
    "# Pad sequences to ensure they have the same length\n",
    "max_sequence_length = max(len(seq) for seq in sequences)\n",
    "sequences = pad_sequences(sequences, maxlen=max_sequence_length)\n",
    "\n",
    "# Convert labels to numerical labels\n",
    "label_to_index = {tag: i for i, tag in enumerate(set(all_labels))}\n",
    "labels = np.array([label_to_index[label] for label in all_labels], dtype=np.int32)\n",
    "\n",
    "# Define the neural network architecture\n",
    "model = tf.keras.Sequential([\n",
    "    tf.keras.layers.Embedding(input_dim=len(tokenizer.word_index) + 1, output_dim=100, input_length=max_sequence_length),\n",
    "    tf.keras.layers.Flatten(),\n",
    "    tf.keras.layers.Dense(64, activation='relu'),\n",
    "    tf.keras.layers.Dense(len(set(label_to_index)), activation='softmax')\n",
    "])\n",
    "\n",
    "# Compile the model\n",
    "model.compile(loss='sparse_categorical_crossentropy', optimizer='adam', metrics=['accuracy'])\n",
    "\n",
    "# Add Early Stopping callback\n",
    "early_stopping = tf.keras.callbacks.EarlyStopping(monitor='val_loss', patience=3, restore_best_weights=True)\n",
    "\n",
    "# Train the model with Early Stopping\n",
    "model.fit(sequences, labels, epochs=100, batch_size=1, validation_split=0.2, callbacks=[early_stopping])\n",
    "\n",
    "# Now, you can use the model to predict the tag of a new question\n",
    "new_question = \"how is python\"\n",
    "new_question = preprocess_text(new_question)\n",
    "new_sequence = tokenizer.texts_to_sequences([new_question])\n",
    "new_padded_sequence = pad_sequences(new_sequence, maxlen=max_sequence_length)\n",
    "print(new_padded_sequence)\n",
    "# Predict probabilities for each class using the model's predict method\n",
    "predicted_probs = model.predict(new_padded_sequence)\n",
    "\n",
    "# Get the index of the predicted label with the highest probability\n",
    "predicted_label_index = np.argmax(predicted_probs)\n",
    "\n",
    "# Convert the index back to the original label\n",
    "predicted_tag = [tag for tag, index in label_to_index.items() if index == predicted_label_index][0]\n",
    "\n",
    "print(\"Predicted tag:\", predicted_tag)\n"
   ]
  },
  {
   "cell_type": "code",
   "execution_count": 167,
   "id": "53e3a4fc",
   "metadata": {},
   "outputs": [
    {
     "name": "stdout",
     "output_type": "stream",
     "text": [
      "1/1 [==============================] - 0s 35ms/step\n",
      "Predicted tag: js\n"
     ]
    }
   ],
   "source": [
    "new_question = \"python\"\n",
    "new_question = preprocess_text(new_question)\n",
    "new_sequence = tokenizer.texts_to_sequences([new_question])\n",
    "new_padded_sequence = pad_sequences(new_sequence, maxlen=max_sequence_length)\n",
    "predicted_probs = model.predict(new_padded_sequence)\n",
    "\n",
    "\n",
    "predicted_label_index = np.argmax(predicted_probs)\n",
    "predicted_tag = [tag for tag, index in label_to_index.items() if index == predicted_label_index][0]\n",
    "\n",
    "print(\"Predicted tag:\", predicted_tag)"
   ]
  },
  {
   "cell_type": "code",
   "execution_count": null,
   "id": "df2a08f3",
   "metadata": {},
   "outputs": [],
   "source": []
  }
 ],
 "metadata": {
  "kernelspec": {
   "display_name": "Python 3 (ipykernel)",
   "language": "python",
   "name": "python3"
  },
  "language_info": {
   "codemirror_mode": {
    "name": "ipython",
    "version": 3
   },
   "file_extension": ".py",
   "mimetype": "text/x-python",
   "name": "python",
   "nbconvert_exporter": "python",
   "pygments_lexer": "ipython3",
   "version": "3.9.16"
  }
 },
 "nbformat": 4,
 "nbformat_minor": 5
}
