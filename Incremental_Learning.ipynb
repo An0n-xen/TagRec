{
 "cells": [
  {
   "cell_type": "code",
   "execution_count": 19,
   "id": "b9e61ba5",
   "metadata": {},
   "outputs": [],
   "source": [
    "from Utils.utils import *\n",
    "import json\n",
    "import numpy as np\n",
    "\n",
    "import tensorflow as tf\n",
    "from tensorflow.keras.layers import Dense\n",
    "from tensorflow.keras import Sequential"
   ]
  },
  {
   "cell_type": "markdown",
   "id": "8a0d7565",
   "metadata": {},
   "source": [
    "Load Model"
   ]
  },
  {
   "cell_type": "code",
   "execution_count": 276,
   "id": "7d160e76",
   "metadata": {},
   "outputs": [],
   "source": [
    "# Load json data\n",
    "with open(\"Dataset/traindata.json\",\"r\") as file:\n",
    "    Data = json.load(file)    "
   ]
  },
  {
   "cell_type": "code",
   "execution_count": 277,
   "id": "1dead886",
   "metadata": {},
   "outputs": [],
   "source": [
    "def UpdateJson(data,tag,newData):\n",
    "    try:\n",
    "        print(\"here\")\n",
    "        (i,n_entry) = next((i,entry) for i,entry in enumerate(data['questions']) if entry['tag'] == tag)\n",
    "        n_data = n_entry['keywords']\n",
    "        n_data.extend(newData)\n",
    "        data['questions'][i]['keywords'] = n_data\n",
    "    except :\n",
    "        print(\"there\")\n",
    "        data['questions'].append(newData)\n",
    "    finally:\n",
    "        print(\"finally\")\n",
    "        with open(\"Dataset/traindata.json\",\"w\") as json_file:\n",
    "            json.dump(data,json_file,indent=4)"
   ]
  },
  {
   "cell_type": "code",
   "execution_count": 278,
   "id": "2493ef1f",
   "metadata": {},
   "outputs": [],
   "source": [
    "data_format = {\"tag\":\"\",\"keywords\":[]}"
   ]
  },
  {
   "cell_type": "code",
   "execution_count": 279,
   "id": "4b4af5f6",
   "metadata": {},
   "outputs": [],
   "source": [
    "# UpdateJson(Data,\"Reac\",data)"
   ]
  },
  {
   "cell_type": "code",
   "execution_count": 280,
   "id": "b9dc7df4",
   "metadata": {},
   "outputs": [],
   "source": [
    "tags,all_patterns,xy = processDataSet(Data)"
   ]
  },
  {
   "cell_type": "code",
   "execution_count": 281,
   "id": "6fcf9193",
   "metadata": {},
   "outputs": [],
   "source": [
    "all_patterns_dict = {word:i for i,word in enumerate(set(all_patterns))}"
   ]
  },
  {
   "cell_type": "code",
   "execution_count": 282,
   "id": "6ce5732c",
   "metadata": {},
   "outputs": [
    {
     "name": "stdout",
     "output_type": "stream",
     "text": [
      "install conda env conputer\n"
     ]
    }
   ],
   "source": [
    "string = \"How do i install conda env on my conputer\"\n",
    "n_string = preprocess_text(string)\n",
    "print(n_string)"
   ]
  },
  {
   "cell_type": "code",
   "execution_count": 283,
   "id": "3b81c0b9",
   "metadata": {},
   "outputs": [],
   "source": [
    "new_patterns = [x for x in n_string.split(\" \") if x not in all_patterns]"
   ]
  },
  {
   "cell_type": "code",
   "execution_count": 284,
   "id": "8a358833",
   "metadata": {},
   "outputs": [
    {
     "data": {
      "text/plain": [
       "['env', 'conputer']"
      ]
     },
     "execution_count": 284,
     "metadata": {},
     "output_type": "execute_result"
    }
   ],
   "source": [
    "new_patterns"
   ]
  },
  {
   "cell_type": "code",
   "execution_count": 285,
   "id": "87bf879d",
   "metadata": {},
   "outputs": [],
   "source": [
    "b_of_w = np.array([bag_of_words(n_string,all_patterns,all_patterns_dict)])"
   ]
  },
  {
   "cell_type": "code",
   "execution_count": 286,
   "id": "5f05ef7d",
   "metadata": {},
   "outputs": [],
   "source": [
    "def update_all_patterns_dict(new_partterns,all_patterns_dict):\n",
    "    n = len(all_patterns_dict)\n",
    "    \n",
    "    all_patterns_dict.update({word:i+n for i,word in enumerate(new_partterns)})\n",
    "    \n",
    "    return all_patterns_dict"
   ]
  },
  {
   "cell_type": "code",
   "execution_count": 292,
   "id": "d95c484c",
   "metadata": {},
   "outputs": [],
   "source": [
    "def update_all_patterns(new_patterns,all_patterns):\n",
    "    all_patterns.extend(new_patterns)\n",
    "    \n",
    "    return all_patterns"
   ]
  },
  {
   "cell_type": "code",
   "execution_count": 288,
   "id": "63dccd68",
   "metadata": {},
   "outputs": [],
   "source": [
    "def update_all_patterns_combo(new_patterns,all_patterns,all_patterns_dict,xy,tag):\n",
    "    n = len(all_patterns_dict)\n",
    "    \n",
    "    all_patterns.extend(new_patterns)\n",
    "    \n",
    "    all_patterns_dict.update({word:i+n for i,word in enumerate(new_patterns)})\n",
    "    \n",
    "    xy.extend((word,tag) for word in new_patterns)\n",
    "    \n",
    "    return all_patterns, all_patterns_dict,xy"
   ]
  },
  {
   "cell_type": "code",
   "execution_count": 289,
   "id": "3340af67",
   "metadata": {},
   "outputs": [],
   "source": [
    "def update_xy(new_patterns,xy,tag):\n",
    "    xy.extend((word,tag) for word in new_patterns)    \n",
    "    return xy"
   ]
  },
  {
   "cell_type": "code",
   "execution_count": 290,
   "id": "3c397b4a",
   "metadata": {},
   "outputs": [],
   "source": [
    "# test1 = update_all_patterns(new_patterns,all_patterns)\n",
    "# test2 = update_all_patterns_dict(new_patterns,all_patterns_dict)\n",
    "# test3 = update_xy(new_patterns,xy,\"Python\")\n",
    "test1,test2,test3 = update_all_patterns_combo(new_patterns,all_patterns,all_patterns_dict,xy,\"Python\")"
   ]
  },
  {
   "cell_type": "markdown",
   "id": "d8af82eb",
   "metadata": {},
   "source": [
    "Get input from user"
   ]
  },
  {
   "cell_type": "markdown",
   "id": "9083dc1e",
   "metadata": {},
   "source": [
    "preprocess user text"
   ]
  },
  {
   "cell_type": "markdown",
   "id": "b157f7cc",
   "metadata": {},
   "source": [
    "get new patterns"
   ]
  },
  {
   "cell_type": "markdown",
   "id": "aae4e019",
   "metadata": {},
   "source": [
    "update of combo"
   ]
  },
  {
   "cell_type": "code",
   "execution_count": null,
   "id": "49c6365a",
   "metadata": {},
   "outputs": [],
   "source": []
  }
 ],
 "metadata": {
  "kernelspec": {
   "display_name": "Python 3 (ipykernel)",
   "language": "python",
   "name": "python3"
  },
  "language_info": {
   "codemirror_mode": {
    "name": "ipython",
    "version": 3
   },
   "file_extension": ".py",
   "mimetype": "text/x-python",
   "name": "python",
   "nbconvert_exporter": "python",
   "pygments_lexer": "ipython3",
   "version": "3.9.16"
  }
 },
 "nbformat": 4,
 "nbformat_minor": 5
}
