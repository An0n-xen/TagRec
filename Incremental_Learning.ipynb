{
 "cells": [
  {
   "cell_type": "code",
   "execution_count": 19,
   "id": "b9e61ba5",
   "metadata": {},
   "outputs": [],
   "source": [
    "from Utils.utils import *\n",
    "import json\n",
    "import numpy as np\n",
    "\n",
    "import tensorflow as tf\n",
    "from tensorflow.keras.layers import Dense\n",
    "from tensorflow.keras import Sequential"
   ]
  },
  {
   "cell_type": "markdown",
   "id": "7b80e96a",
   "metadata": {},
   "source": [
    "Load Model"
   ]
  },
  {
   "cell_type": "code",
   "execution_count": 276,
   "id": "f81d4ad0",
   "metadata": {},
   "outputs": [],
   "source": [
    "# Load json data\n",
    "with open(\"Dataset/traindata.json\",\"r\") as file:\n",
    "    Data = json.load(file)    "
   ]
  },
  {
   "cell_type": "code",
   "execution_count": 277,
   "id": "67abd2f0",
   "metadata": {},
   "outputs": [],
   "source": [
    "def UpdateJson(data,tag,newData):\n",
    "    try:\n",
    "        print(\"here\")\n",
    "        (i,n_entry) = next((i,entry) for i,entry in enumerate(data['questions']) if entry['tag'] == tag)\n",
    "        n_data = n_entry['keywords']\n",
    "        n_data.extend(newData)\n",
    "        data['questions'][i]['keywords'] = n_data\n",
    "    except :\n",
    "        print(\"there\")\n",
    "        data['questions'].append(newData)\n",
    "    finally:\n",
    "        print(\"finally\")\n",
    "        with open(\"Dataset/traindata.json\",\"w\") as json_file:\n",
    "            json.dump(data,json_file,indent=4)"
   ]
  },
  {
   "cell_type": "code",
   "execution_count": 278,
   "id": "7aa0fe93",
   "metadata": {},
   "outputs": [],
   "source": [
    "data_format = {\"tag\":\"\",\"keywords\":[]}"
   ]
  },
  {
   "cell_type": "code",
   "execution_count": 279,
   "id": "e4ab0f3f",
   "metadata": {},
   "outputs": [],
   "source": [
    "# UpdateJson(Data,\"Reac\",data)"
   ]
  },
  {
   "cell_type": "code",
   "execution_count": 280,
   "id": "7deb43f6",
   "metadata": {},
   "outputs": [],
   "source": [
    "tags,all_patterns,xy = processDataSet(Data)"
   ]
  },
  {
   "cell_type": "code",
   "execution_count": 281,
   "id": "d778b219",
   "metadata": {},
   "outputs": [],
   "source": [
    "all_patterns_dict = {word:i for i,word in enumerate(set(all_patterns))}"
   ]
  },
  {
   "cell_type": "code",
   "execution_count": 282,
   "id": "1bab218c",
   "metadata": {},
   "outputs": [
    {
     "name": "stdout",
     "output_type": "stream",
     "text": [
      "install conda env conputer\n"
     ]
    }
   ],
   "source": [
    "string = \"How do i install conda env on my conputer\"\n",
    "n_string = preprocess_text(string)\n",
    "print(n_string)"
   ]
  },
  {
   "cell_type": "code",
   "execution_count": 283,
   "id": "aba796ce",
   "metadata": {},
   "outputs": [],
   "source": [
    "new_patterns = [x for x in n_string.split(\" \") if x not in all_patterns]"
   ]
  },
  {
   "cell_type": "code",
   "execution_count": 284,
   "id": "ca76ee6d",
   "metadata": {},
   "outputs": [
    {
     "data": {
      "text/plain": [
       "['env', 'conputer']"
      ]
     },
     "execution_count": 284,
     "metadata": {},
     "output_type": "execute_result"
    }
   ],
   "source": [
    "new_patterns"
   ]
  },
  {
   "cell_type": "code",
   "execution_count": 285,
   "id": "06df1005",
   "metadata": {},
   "outputs": [],
   "source": [
    "b_of_w = np.array([bag_of_words(n_string,all_patterns,all_patterns_dict)])"
   ]
  },
  {
   "cell_type": "code",
   "execution_count": 286,
   "id": "a94b8e6e",
   "metadata": {},
   "outputs": [],
   "source": [
    "def update_all_patterns_dict(new_partterns,all_patterns_dict):\n",
    "    n = len(all_patterns_dict)\n",
    "    \n",
    "    all_patterns_dict.update({word:i+n for i,word in enumerate(new_partterns)})\n",
    "    \n",
    "    return all_patterns_dict"
   ]
  },
  {
   "cell_type": "code",
   "execution_count": 292,
   "id": "f76b9daf",
   "metadata": {},
   "outputs": [],
   "source": [
    "def update_all_patterns(new_patterns,all_patterns):\n",
    "    all_patterns.extend(new_patterns)\n",
    "    \n",
    "    return all_patterns"
   ]
  },
  {
   "cell_type": "code",
   "execution_count": 288,
   "id": "c0a0748d",
   "metadata": {},
   "outputs": [],
   "source": [
    "def update_all_patterns_combo(new_patterns,all_patterns,all_patterns_dict,xy,tag):\n",
    "    n = len(all_patterns_dict)\n",
    "    \n",
    "    all_patterns.extend(new_patterns)\n",
    "    \n",
    "    all_patterns_dict.update({word:i+n for i,word in enumerate(new_patterns)})\n",
    "    \n",
    "    xy.extend((word,tag) for word in new_patterns)\n",
    "    \n",
    "    return all_patterns, all_patterns_dict,xy"
   ]
  },
  {
   "cell_type": "code",
   "execution_count": 289,
   "id": "ba989e84",
   "metadata": {},
   "outputs": [],
   "source": [
    "def update_xy(new_patterns,xy,tag):\n",
    "    xy.extend((word,tag) for word in new_patterns)    \n",
    "    return xy"
   ]
  },
  {
   "cell_type": "code",
   "execution_count": 290,
   "id": "e301620c",
   "metadata": {},
   "outputs": [],
   "source": [
    "# test1 = update_all_patterns(new_patterns,all_patterns)\n",
    "# test2 = update_all_patterns_dict(new_patterns,all_patterns_dict)\n",
    "# test3 = update_xy(new_patterns,xy,\"Python\")\n",
    "test1,test2,test3 = update_all_patterns_combo(new_patterns,all_patterns,all_patterns_dict,xy,\"Python\")"
   ]
  },
  {
   "cell_type": "markdown",
   "id": "87fedcc1",
   "metadata": {},
   "source": [
    "Get input from user"
   ]
  },
  {
   "cell_type": "markdown",
   "id": "8fb8a774",
   "metadata": {},
   "source": [
    "preprocess user text"
   ]
  },
  {
   "cell_type": "markdown",
   "id": "42b3a3b1",
   "metadata": {},
   "source": [
    "get new patterns"
   ]
  },
  {
   "cell_type": "markdown",
   "id": "451d3adf",
   "metadata": {},
   "source": [
    "update of combo"
   ]
  },
  {
   "cell_type": "code",
   "execution_count": null,
   "id": "84352b71",
   "metadata": {},
   "outputs": [],
   "source": []
  }
 ],
 "metadata": {
  "kernelspec": {
   "display_name": "Python 3 (ipykernel)",
   "language": "python",
   "name": "python3"
  },
  "language_info": {
   "codemirror_mode": {
    "name": "ipython",
    "version": 3
   },
   "file_extension": ".py",
   "mimetype": "text/x-python",
   "name": "python",
   "nbconvert_exporter": "python",
   "pygments_lexer": "ipython3",
   "version": "3.9.16"
  }
 },
 "nbformat": 4,
 "nbformat_minor": 5
}
