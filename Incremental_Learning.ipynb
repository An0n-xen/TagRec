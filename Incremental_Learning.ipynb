{
 "cells": [
  {
   "cell_type": "code",
   "execution_count": 3,
   "id": "b9e61ba5",
   "metadata": {},
   "outputs": [],
   "source": [
    "from Utils.utils import *\n",
    "import json\n",
    "import numpy as np\n",
    "\n",
    "import tensorflow as tf\n",
    "from tensorflow.keras.layers import Dense\n",
    "from tensorflow.keras import Sequential"
   ]
  },
  {
   "cell_type": "markdown",
   "id": "ccdeaf5f",
   "metadata": {},
   "source": [
    "Load Model"
   ]
  },
  {
   "cell_type": "code",
   "execution_count": 148,
   "id": "6a2531e0",
   "metadata": {},
   "outputs": [],
   "source": [
    "# Load json data\n",
    "with open(\"Dataset/traindata.json\",\"r\") as file:\n",
    "    Data = json.load(file)    "
   ]
  },
  {
   "cell_type": "code",
   "execution_count": 149,
   "id": "4bb26604",
   "metadata": {},
   "outputs": [],
   "source": [
    "def UpdateJson(data,tag,newData):\n",
    "    try:\n",
    "        print(\"here\")\n",
    "        (i,n_entry) = next((i,entry) for i,entry in enumerate(data['questions']) if entry['tag'] == tag)\n",
    "        n_data = n_entry['keywords']\n",
    "        n_data.extend(newData)\n",
    "        data['questions'][i]['keywords'] = n_data\n",
    "    except :\n",
    "        print(\"there\")\n",
    "        data['questions'].append(newData)\n",
    "    finally:\n",
    "        print(\"finally\")\n",
    "        with open(\"Dataset/traindata.json\",\"w\") as json_file:\n",
    "            json.dump(data,json_file,indent=4)"
   ]
  },
  {
   "cell_type": "code",
   "execution_count": 150,
   "id": "d2c4ffff",
   "metadata": {},
   "outputs": [],
   "source": [
    "data_format = {\"tag\":\"\",\"keywords\":[]}"
   ]
  },
  {
   "cell_type": "code",
   "execution_count": 151,
   "id": "c290c742",
   "metadata": {},
   "outputs": [
    {
     "name": "stdout",
     "output_type": "stream",
     "text": [
      "here\n",
      "there\n",
      "finally\n"
     ]
    }
   ],
   "source": [
    "UpdateJson(Data,\"Reac\",data)"
   ]
  },
  {
   "cell_type": "code",
   "execution_count": null,
   "id": "e22fdec2",
   "metadata": {},
   "outputs": [],
   "source": []
  }
 ],
 "metadata": {
  "kernelspec": {
   "display_name": "Python 3 (ipykernel)",
   "language": "python",
   "name": "python3"
  },
  "language_info": {
   "codemirror_mode": {
    "name": "ipython",
    "version": 3
   },
   "file_extension": ".py",
   "mimetype": "text/x-python",
   "name": "python",
   "nbconvert_exporter": "python",
   "pygments_lexer": "ipython3",
   "version": "3.9.16"
  }
 },
 "nbformat": 4,
 "nbformat_minor": 5
}
