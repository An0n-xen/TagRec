{
 "cells": [
  {
   "cell_type": "code",
   "execution_count": 19,
   "id": "b9e61ba5",
   "metadata": {},
   "outputs": [],
   "source": [
    "from Utils.utils import *\n",
    "import json\n",
    "import numpy as np\n",
    "\n",
    "import tensorflow as tf\n",
    "from tensorflow.keras.layers import Dense\n",
    "from tensorflow.keras import Sequential"
   ]
  },
  {
   "cell_type": "markdown",
   "id": "459471e9",
   "metadata": {},
   "source": [
    "Load Model"
   ]
  },
  {
   "cell_type": "code",
   "execution_count": 233,
   "id": "512f7af1",
   "metadata": {},
   "outputs": [],
   "source": [
    "# Load json data\n",
    "with open(\"Dataset/traindata.json\",\"r\") as file:\n",
    "    Data = json.load(file)    "
   ]
  },
  {
   "cell_type": "code",
   "execution_count": 234,
   "id": "a95aac21",
   "metadata": {},
   "outputs": [],
   "source": [
    "def UpdateJson(data,tag,newData):\n",
    "    try:\n",
    "        print(\"here\")\n",
    "        (i,n_entry) = next((i,entry) for i,entry in enumerate(data['questions']) if entry['tag'] == tag)\n",
    "        n_data = n_entry['keywords']\n",
    "        n_data.extend(newData)\n",
    "        data['questions'][i]['keywords'] = n_data\n",
    "    except :\n",
    "        print(\"there\")\n",
    "        data['questions'].append(newData)\n",
    "    finally:\n",
    "        print(\"finally\")\n",
    "        with open(\"Dataset/traindata.json\",\"w\") as json_file:\n",
    "            json.dump(data,json_file,indent=4)"
   ]
  },
  {
   "cell_type": "code",
   "execution_count": 235,
   "id": "5862a472",
   "metadata": {},
   "outputs": [],
   "source": [
    "data_format = {\"tag\":\"\",\"keywords\":[]}"
   ]
  },
  {
   "cell_type": "code",
   "execution_count": 236,
   "id": "1d770d1f",
   "metadata": {},
   "outputs": [],
   "source": [
    "# UpdateJson(Data,\"Reac\",data)"
   ]
  },
  {
   "cell_type": "code",
   "execution_count": 237,
   "id": "60c1e009",
   "metadata": {},
   "outputs": [],
   "source": [
    "tags,all_patterns,xy = processDataSet(Data)"
   ]
  },
  {
   "cell_type": "code",
   "execution_count": 238,
   "id": "390b42ff",
   "metadata": {},
   "outputs": [],
   "source": [
    "all_patterns_dict = {word:i for i,word in enumerate(set(all_patterns))}"
   ]
  },
  {
   "cell_type": "code",
   "execution_count": 239,
   "id": "a38a51e7",
   "metadata": {},
   "outputs": [
    {
     "name": "stdout",
     "output_type": "stream",
     "text": [
      "install conda env conputer\n"
     ]
    }
   ],
   "source": [
    "string = \"How do i install conda env on my conputer\"\n",
    "n_string = preprocess_text(string)\n",
    "print(n_string)"
   ]
  },
  {
   "cell_type": "code",
   "execution_count": 240,
   "id": "c097a730",
   "metadata": {},
   "outputs": [],
   "source": [
    "new_patterns = [x for x in n_string.split(\" \") if x not in all_patterns]"
   ]
  },
  {
   "cell_type": "code",
   "execution_count": 241,
   "id": "97b6508d",
   "metadata": {},
   "outputs": [
    {
     "data": {
      "text/plain": [
       "['env', 'conputer']"
      ]
     },
     "execution_count": 241,
     "metadata": {},
     "output_type": "execute_result"
    }
   ],
   "source": [
    "new_patterns"
   ]
  },
  {
   "cell_type": "code",
   "execution_count": 242,
   "id": "3d22d92c",
   "metadata": {},
   "outputs": [],
   "source": [
    "b_of_w = np.array([bag_of_words(n_string,all_patterns,all_patterns_dict)])"
   ]
  },
  {
   "cell_type": "code",
   "execution_count": 243,
   "id": "9ed5abd4",
   "metadata": {},
   "outputs": [],
   "source": [
    "def update_all_patterns_dict(new_partterns,all_patterns_dict):\n",
    "    n = len(all_patterns_dict)\n",
    "    \n",
    "    all_patterns_dict.update({word:i+n for i,word in enumerate(new_partterns)})\n",
    "    \n",
    "    return all_patterns_dict"
   ]
  },
  {
   "cell_type": "code",
   "execution_count": 244,
   "id": "9df88275",
   "metadata": {},
   "outputs": [],
   "source": [
    "def update_all_patterns(new_patterns,all_patterns):\n",
    "    all_patterns.extend(new_patterns)\n",
    "    \n",
    "    return all_patterns"
   ]
  },
  {
   "cell_type": "code",
   "execution_count": 245,
   "id": "3a910204",
   "metadata": {},
   "outputs": [],
   "source": [
    "def update_all_patterns_combo(new_patterns,all_patterns,all_patterns_dict,xy,tag):\n",
    "    n = len(all_patterns_dict)\n",
    "    \n",
    "    all_patterns.extend(new_patterns)\n",
    "    \n",
    "    all_patterns_dict.update({word:i+n for i,word in enumerate(new_patterns)})\n",
    "    \n",
    "    xy.extend([word,tag] for word in new_patterns)\n",
    "    \n",
    "    return all_patterns, all_patterns_dict,xy"
   ]
  },
  {
   "cell_type": "code",
   "execution_count": 246,
   "id": "86cd1639",
   "metadata": {},
   "outputs": [],
   "source": [
    "def update_xy(new_patterns,xy,tag):\n",
    "    xy.extend((word,tag) for word in new_patterns)    \n",
    "    return xy"
   ]
  },
  {
   "cell_type": "code",
   "execution_count": 247,
   "id": "6073f691",
   "metadata": {},
   "outputs": [],
   "source": [
    "# test1 = update_all_patterns(new_patterns,all_patterns)\n",
    "# test2 = update_all_patterns_dict(new_patterns,all_patterns_dict)\n",
    "# test3 = update_xy(new_patterns,xy,\"Python\")\n",
    "test1,test2,test3 = update_all_patterns_combo(new_patterns,all_patterns,all_patterns_dict,xy,\"Python\")"
   ]
  },
  {
   "cell_type": "code",
   "execution_count": 253,
   "id": "8d8479f1",
   "metadata": {},
   "outputs": [
    {
     "data": {
      "text/plain": [
       "{'props': 0,\n",
       " 'context': 1,\n",
       " 'dictionaries': 2,\n",
       " 'modules': 3,\n",
       " 'python': 4,\n",
       " 'virtual': 5,\n",
       " 'jest': 6,\n",
       " 'jupyter': 7,\n",
       " 'notebook': 8,\n",
       " 'anaconda': 9,\n",
       " 'package': 10,\n",
       " 'conda': 11,\n",
       " 'jvm': 12,\n",
       " 'nodejs': 13,\n",
       " 'npm': 14,\n",
       " 'yml': 15,\n",
       " 'install': 16,\n",
       " 'typescript': 17,\n",
       " 'poetry': 18,\n",
       " 'react': 19,\n",
       " 'environment': 20,\n",
       " 'seaborn': 21,\n",
       " 'tsconfig': 22,\n",
       " 'yarn': 23,\n",
       " 'components': 24,\n",
       " 'interpreter': 25,\n",
       " 'pip': 26,\n",
       " 'json': 27,\n",
       " 'webpack': 28,\n",
       " 'javascript': 29,\n",
       " 'js': 30,\n",
       " 'Nextjs': 31,\n",
       " 'enzyme': 32,\n",
       " 'pipenv': 33,\n",
       " 'state': 34,\n",
       " 'node': 35,\n",
       " 'hooks': 36,\n",
       " 'pnpm': 37,\n",
       " 'env': 38,\n",
       " 'conputer': 39}"
      ]
     },
     "execution_count": 253,
     "metadata": {},
     "output_type": "execute_result"
    }
   ],
   "source": [
    "test2"
   ]
  },
  {
   "cell_type": "code",
   "execution_count": null,
   "id": "b9ece6d9",
   "metadata": {},
   "outputs": [],
   "source": []
  }
 ],
 "metadata": {
  "kernelspec": {
   "display_name": "Python 3 (ipykernel)",
   "language": "python",
   "name": "python3"
  },
  "language_info": {
   "codemirror_mode": {
    "name": "ipython",
    "version": 3
   },
   "file_extension": ".py",
   "mimetype": "text/x-python",
   "name": "python",
   "nbconvert_exporter": "python",
   "pygments_lexer": "ipython3",
   "version": "3.9.16"
  }
 },
 "nbformat": 4,
 "nbformat_minor": 5
}
