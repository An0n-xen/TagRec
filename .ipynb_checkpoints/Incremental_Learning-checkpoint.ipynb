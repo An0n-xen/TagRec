{
 "cells": [
  {
   "cell_type": "code",
   "execution_count": 3,
   "id": "b9e61ba5",
   "metadata": {},
   "outputs": [],
   "source": [
    "from Utils.utils import *\n",
    "import json\n",
    "import numpy as np\n",
    "\n",
    "import tensorflow as tf\n",
    "from tensorflow.keras.layers import Dense\n",
    "from tensorflow.keras import Sequential"
   ]
  },
  {
   "cell_type": "markdown",
   "id": "e4bffde1",
   "metadata": {},
   "source": [
    "Load Model"
   ]
  },
  {
   "cell_type": "code",
   "execution_count": 50,
   "id": "dcd81ea0",
   "metadata": {
    "collapsed": true
   },
   "outputs": [
    {
     "data": {
      "text/plain": [
       "[{'tag': 'Js',\n",
       "  'keywords': ['nodejs',\n",
       "   'javascript',\n",
       "   'jvm',\n",
       "   'js',\n",
       "   'typescript',\n",
       "   'tsconfig',\n",
       "   'node',\n",
       "   'modules',\n",
       "   'npm',\n",
       "   'yarn',\n",
       "   'pnpm',\n",
       "   'package',\n",
       "   'yml',\n",
       "   'json']},\n",
       " {'tag': 'Python',\n",
       "  'keywords': ['python',\n",
       "   'conda',\n",
       "   'virtual',\n",
       "   'environment',\n",
       "   'pip',\n",
       "   'pipenv',\n",
       "   'poetry',\n",
       "   'interpreter',\n",
       "   'dictionaries',\n",
       "   'anaconda',\n",
       "   'jupyter',\n",
       "   'notebook']},\n",
       " {'tag': 'React',\n",
       "  'keywords': ['props',\n",
       "   'components',\n",
       "   'state',\n",
       "   'hooks',\n",
       "   'context',\n",
       "   'react',\n",
       "   'webpack',\n",
       "   'yarn',\n",
       "   'npm',\n",
       "   'enzyme',\n",
       "   'jest']}]"
      ]
     },
     "execution_count": 50,
     "metadata": {},
     "output_type": "execute_result"
    }
   ],
   "source": [
    "Data['questions']"
   ]
  },
  {
   "cell_type": "code",
   "execution_count": 138,
   "id": "178162a0",
   "metadata": {},
   "outputs": [],
   "source": [
    "# Load json data\n",
    "with open(\"Dataset/traindata.json\",\"r\") as file:\n",
    "    Data = json.load(file)    "
   ]
  },
  {
   "cell_type": "code",
   "execution_count": 139,
   "id": "1fd02268",
   "metadata": {},
   "outputs": [],
   "source": [
    "def UpdateJson(data,tag,newData):\n",
    "    try:\n",
    "        print(\"here\")\n",
    "        (i,n_entry) = next((i,entry) for i,entry in enumerate(Data['questions']) if entry['tag'] == tag)\n",
    "        n_data = n_entry['keywords']\n",
    "        n_data.extend(newData)\n",
    "        data['questions'][i]['keywords'] = n_data\n",
    "    except :\n",
    "        print(\"there\")\n",
    "        data['questions'].append({})\n",
    "    finally:\n",
    "        print(\"finally\")\n",
    "        with open(\"Dataset/traindata.json\",\"w\") as json_file:\n",
    "            json.dump(data,json_file,indent=4)"
   ]
  },
  {
   "cell_type": "code",
   "execution_count": 142,
   "id": "9b2955eb",
   "metadata": {},
   "outputs": [
    {
     "name": "stdout",
     "output_type": "stream",
     "text": [
      "here\n",
      "there\n",
      "finally\n"
     ]
    }
   ],
   "source": [
    "UpdateJson(Data,\"Reac\",[\"install\",\"Nextjs\"])"
   ]
  },
  {
   "cell_type": "code",
   "execution_count": null,
   "id": "a328edb4",
   "metadata": {},
   "outputs": [],
   "source": [
    "data_format = {\"tag\":\"\",\"keywords\":[]}"
   ]
  }
 ],
 "metadata": {
  "kernelspec": {
   "display_name": "Python 3 (ipykernel)",
   "language": "python",
   "name": "python3"
  },
  "language_info": {
   "codemirror_mode": {
    "name": "ipython",
    "version": 3
   },
   "file_extension": ".py",
   "mimetype": "text/x-python",
   "name": "python",
   "nbconvert_exporter": "python",
   "pygments_lexer": "ipython3",
   "version": "3.9.16"
  }
 },
 "nbformat": 4,
 "nbformat_minor": 5
}
