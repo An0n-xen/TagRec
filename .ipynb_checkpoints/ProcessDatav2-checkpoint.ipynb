{
 "cells": [
  {
   "cell_type": "code",
   "execution_count": 124,
   "id": "dc4e3bcb",
   "metadata": {},
   "outputs": [],
   "source": [
    "# Importing libraries\n",
    "import json\n",
    "import numpy as np\n",
    "\n",
    "from nltk.tokenize import word_tokenize, wordpunct_tokenize\n",
    "from nltk.corpus import stopwords\n",
    "\n",
    "import tensorflow as tf\n",
    "from tensorflow.keras.preprocessing.text import Tokenizer\n",
    "from tensorflow.keras.preprocessing.sequence import pad_sequences\n",
    "\n",
    "from tensorflow.keras.layers import Dense,ReLU\n",
    "from tensorflow.keras import Sequential"
   ]
  },
  {
   "cell_type": "code",
   "execution_count": 125,
   "id": "f26b6b2f",
   "metadata": {},
   "outputs": [],
   "source": [
    "# Load json data\n",
    "with open(\"traindata.json\",\"r\") as file:\n",
    "    Data = json.load(file)    "
   ]
  },
  {
   "cell_type": "code",
   "execution_count": 126,
   "id": "1a7a1454",
   "metadata": {},
   "outputs": [],
   "source": [
    "# Placeholder for storing values\n",
    "all_patterns = []\n",
    "tags = []\n",
    "xy = []\n",
    "sequences_x = []\n",
    "sequences_y = []"
   ]
  },
  {
   "cell_type": "code",
   "execution_count": 127,
   "id": "0ebb82b9",
   "metadata": {},
   "outputs": [],
   "source": [
    "stop_words = set(stopwords.words('english'))\n",
    "\n",
    "def preprocess_text(text):\n",
    "    tokens = word_tokenize(text.lower())\n",
    "    filtered_tokens = [token for token in tokens if token.isalnum() and token not in stop_words]\n",
    "    return \" \".join(filtered_tokens)"
   ]
  },
  {
   "cell_type": "code",
   "execution_count": 128,
   "id": "ba8e367b",
   "metadata": {},
   "outputs": [],
   "source": [
    "for question in Data['questions']:\n",
    "    tag = question['tag']\n",
    "    tags.append(tag)\n",
    "    \n",
    "    for pattern in question['keywords']:\n",
    "        all_patterns.append(pattern)\n",
    "        xy.append((pattern,tag))"
   ]
  },
  {
   "cell_type": "code",
   "execution_count": 129,
   "id": "249a24a1",
   "metadata": {},
   "outputs": [],
   "source": [
    "all_patterns_dict = {word:i for i,word in enumerate(all_patterns)}"
   ]
  },
  {
   "cell_type": "code",
   "execution_count": 130,
   "id": "8a13ebf1",
   "metadata": {},
   "outputs": [],
   "source": [
    "def bag_of_words(processed_sentence,all_patterns):\n",
    "    tokenized_sentence = [w for w in processed_sentence.split(\" \")]\n",
    "    bag = np.zeros(len(all_patterns),dtype=np.float32)\n",
    "    \n",
    "    for w in tokenized_sentence:\n",
    "        if w in all_patterns:\n",
    "            bag[all_patterns_dict[w]] = 1.0\n",
    "            \n",
    "    return bag"
   ]
  },
  {
   "cell_type": "code",
   "execution_count": 131,
   "id": "7eb9de77",
   "metadata": {},
   "outputs": [],
   "source": [
    "for pattern in xy:\n",
    "    sequences_x.append(bag_of_words(pattern[0],all_patterns))\n",
    "    sequences_y.append(pattern[1])"
   ]
  },
  {
   "cell_type": "code",
   "execution_count": 132,
   "id": "13ad8cb4",
   "metadata": {},
   "outputs": [],
   "source": [
    "label_to_index = {tag:i for i,tag in enumerate(set(tags))}\n",
    "labels = np.array([label_to_index[label[1]] for label in xy], dtype=np.int32)"
   ]
  },
  {
   "cell_type": "code",
   "execution_count": 134,
   "id": "3e9fc7eb",
   "metadata": {},
   "outputs": [],
   "source": [
    "def create_neural_net(input_size,hidden_size, num_classess):\n",
    "    model = Sequential()\n",
    "    model.add(Dense(hidden_size,input_shape=(input_size,),activation='relu'))\n",
    "    model.add(Dense(hidden_size,activation='relu'))\n",
    "    model.add(Dense(num_classess,activation='softmax'))\n",
    "    \n",
    "    return model"
   ]
  },
  {
   "cell_type": "code",
   "execution_count": null,
   "id": "396b67f6",
   "metadata": {},
   "outputs": [],
   "source": [
    "Model = create_neural_net(len(sequences[0]),8,3)"
   ]
  },
  {
   "cell_type": "code",
   "execution_count": null,
   "id": "2b8d21fc",
   "metadata": {},
   "outputs": [],
   "source": []
  }
 ],
 "metadata": {
  "kernelspec": {
   "display_name": "Python 3 (ipykernel)",
   "language": "python",
   "name": "python3"
  },
  "language_info": {
   "codemirror_mode": {
    "name": "ipython",
    "version": 3
   },
   "file_extension": ".py",
   "mimetype": "text/x-python",
   "name": "python",
   "nbconvert_exporter": "python",
   "pygments_lexer": "ipython3",
   "version": "3.9.16"
  }
 },
 "nbformat": 4,
 "nbformat_minor": 5
}
